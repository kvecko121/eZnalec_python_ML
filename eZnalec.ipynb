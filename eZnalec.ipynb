{
 "cells": [
  {
   "cell_type": "markdown",
   "metadata": {},
   "source": [
    "# **eZnalec - Price predicting & analytic model for apartments**"
   ]
  },
  {
   "cell_type": "code",
   "execution_count": 8,
   "metadata": {},
   "outputs": [],
   "source": [
    "from sklearn.linear_model import LinearRegression, Ridge, Lasso\n",
    "from sklearn.model_selection import train_test_split\n",
    "from sklearn.preprocessing import StandardScaler\n",
    "from sklearn.metrics import mean_squared_error\n",
    "from sklearn.experimental import enable_iterative_imputer\n",
    "from sklearn.impute import IterativeImputer\n",
    "from sklearn.model_selection import GridSearchCV\n",
    "import matplotlib.pyplot as plt\n",
    "import pandas as pd\n",
    "import numpy as np"
   ]
  },
  {
   "cell_type": "markdown",
   "metadata": {},
   "source": [
    "# Data preparation (MICE)"
   ]
  },
  {
   "cell_type": "markdown",
   "metadata": {},
   "source": [
    "Load the data"
   ]
  },
  {
   "cell_type": "code",
   "execution_count": 3,
   "metadata": {},
   "outputs": [
    {
     "data": {
      "application/vnd.microsoft.datawrangler.viewer.v0+json": {
       "columns": [
        {
         "name": "index",
         "rawType": "int64",
         "type": "integer"
        },
        {
         "name": "price",
         "rawType": "int64",
         "type": "integer"
        },
        {
         "name": "1+1",
         "rawType": "int64",
         "type": "integer"
        },
        {
         "name": "1+kk",
         "rawType": "int64",
         "type": "integer"
        },
        {
         "name": "2+1",
         "rawType": "int64",
         "type": "integer"
        },
        {
         "name": "2+kk",
         "rawType": "int64",
         "type": "integer"
        },
        {
         "name": "3+1",
         "rawType": "int64",
         "type": "integer"
        },
        {
         "name": "3+kk",
         "rawType": "int64",
         "type": "integer"
        },
        {
         "name": "4+1",
         "rawType": "int64",
         "type": "integer"
        },
        {
         "name": "4+kk",
         "rawType": "int64",
         "type": "integer"
        },
        {
         "name": "5+1",
         "rawType": "int64",
         "type": "integer"
        },
        {
         "name": "5+kk",
         "rawType": "int64",
         "type": "integer"
        },
        {
         "name": "6-a-vice",
         "rawType": "int64",
         "type": "integer"
        },
        {
         "name": "atypicky",
         "rawType": "int64",
         "type": "integer"
        },
        {
         "name": "chodov",
         "rawType": "int64",
         "type": "integer"
        },
        {
         "name": "hlubocepy",
         "rawType": "int64",
         "type": "integer"
        },
        {
         "name": "smichov",
         "rawType": "int64",
         "type": "integer"
        },
        {
         "name": "vysocany",
         "rawType": "int64",
         "type": "integer"
        },
        {
         "name": "zizkov",
         "rawType": "int64",
         "type": "integer"
        },
        {
         "name": "vinohrady",
         "rawType": "int64",
         "type": "integer"
        },
        {
         "name": "modrany",
         "rawType": "int64",
         "type": "integer"
        },
        {
         "name": "nove",
         "rawType": "int64",
         "type": "integer"
        },
        {
         "name": "liben",
         "rawType": "int64",
         "type": "integer"
        },
        {
         "name": "vrsovice",
         "rawType": "int64",
         "type": "integer"
        },
        {
         "name": "cakovice",
         "rawType": "int64",
         "type": "integer"
        },
        {
         "name": "krc",
         "rawType": "int64",
         "type": "integer"
        },
        {
         "name": "nusle",
         "rawType": "int64",
         "type": "integer"
        },
        {
         "name": "radlice",
         "rawType": "int64",
         "type": "integer"
        },
        {
         "name": "satalice",
         "rawType": "int64",
         "type": "integer"
        },
        {
         "name": "haje",
         "rawType": "int64",
         "type": "integer"
        },
        {
         "name": "horni",
         "rawType": "int64",
         "type": "integer"
        },
        {
         "name": "branik",
         "rawType": "int64",
         "type": "integer"
        },
        {
         "name": "holesovice",
         "rawType": "int64",
         "type": "integer"
        },
        {
         "name": "dolni",
         "rawType": "int64",
         "type": "integer"
        },
        {
         "name": "stodulky",
         "rawType": "int64",
         "type": "integer"
        },
        {
         "name": "mala",
         "rawType": "int64",
         "type": "integer"
        },
        {
         "name": "praha_1",
         "rawType": "int64",
         "type": "integer"
        },
        {
         "name": "kosire",
         "rawType": "int64",
         "type": "integer"
        },
        {
         "name": "troja",
         "rawType": "int64",
         "type": "integer"
        },
        {
         "name": "brevnov",
         "rawType": "int64",
         "type": "integer"
        },
        {
         "name": "praha_8",
         "rawType": "int64",
         "type": "integer"
        },
        {
         "name": "kyje",
         "rawType": "int64",
         "type": "integer"
        },
        {
         "name": "vysehrad",
         "rawType": "int64",
         "type": "integer"
        },
        {
         "name": "karlin",
         "rawType": "int64",
         "type": "integer"
        },
        {
         "name": "kbely",
         "rawType": "int64",
         "type": "integer"
        },
        {
         "name": "pitkovice",
         "rawType": "int64",
         "type": "integer"
        },
        {
         "name": "sobin",
         "rawType": "int64",
         "type": "integer"
        },
        {
         "name": "cerny",
         "rawType": "int64",
         "type": "integer"
        },
        {
         "name": "treboradice",
         "rawType": "int64",
         "type": "integer"
        },
        {
         "name": "cimice",
         "rawType": "int64",
         "type": "integer"
        },
        {
         "name": "strizkov",
         "rawType": "int64",
         "type": "integer"
        },
        {
         "name": "praha_9",
         "rawType": "int64",
         "type": "integer"
        },
        {
         "name": "letnany",
         "rawType": "int64",
         "type": "integer"
        },
        {
         "name": "kobylisy",
         "rawType": "int64",
         "type": "integer"
        },
        {
         "name": "dejvice",
         "rawType": "int64",
         "type": "integer"
        },
        {
         "name": "praha_14",
         "rawType": "int64",
         "type": "integer"
        },
        {
         "name": "bubenec",
         "rawType": "int64",
         "type": "integer"
        },
        {
         "name": "radotin",
         "rawType": "int64",
         "type": "integer"
        },
        {
         "name": "ujezd",
         "rawType": "int64",
         "type": "integer"
        },
        {
         "name": "suchdol",
         "rawType": "int64",
         "type": "integer"
        },
        {
         "name": "hostavice",
         "rawType": "int64",
         "type": "integer"
        },
        {
         "name": "praha_5",
         "rawType": "int64",
         "type": "integer"
        },
        {
         "name": "podoli",
         "rawType": "int64",
         "type": "integer"
        },
        {
         "name": "zlicin",
         "rawType": "int64",
         "type": "integer"
        },
        {
         "name": "veleslavin",
         "rawType": "int64",
         "type": "integer"
        },
        {
         "name": "michle",
         "rawType": "int64",
         "type": "integer"
        },
        {
         "name": "hostivar",
         "rawType": "int64",
         "type": "integer"
        },
        {
         "name": "strasnice",
         "rawType": "int64",
         "type": "integer"
        },
        {
         "name": "petrovice",
         "rawType": "int64",
         "type": "integer"
        },
        {
         "name": "praha_4",
         "rawType": "int64",
         "type": "integer"
        },
        {
         "name": "zbraslav",
         "rawType": "int64",
         "type": "integer"
        },
        {
         "name": "stare",
         "rawType": "int64",
         "type": "integer"
        },
        {
         "name": "bohnice",
         "rawType": "int64",
         "type": "integer"
        },
        {
         "name": "kolovraty",
         "rawType": "int64",
         "type": "integer"
        },
        {
         "name": "kamyk",
         "rawType": "int64",
         "type": "integer"
        },
        {
         "name": "trebonice",
         "rawType": "int64",
         "type": "integer"
        },
        {
         "name": "zabehlice",
         "rawType": "int64",
         "type": "integer"
        },
        {
         "name": "ruzyne",
         "rawType": "int64",
         "type": "integer"
        },
        {
         "name": "jinonice",
         "rawType": "int64",
         "type": "integer"
        },
        {
         "name": "malesice",
         "rawType": "int64",
         "type": "integer"
        },
        {
         "name": "motol",
         "rawType": "int64",
         "type": "integer"
        },
        {
         "name": "prosek",
         "rawType": "int64",
         "type": "integer"
        },
        {
         "name": "vokovice",
         "rawType": "int64",
         "type": "integer"
        },
        {
         "name": "repy",
         "rawType": "int64",
         "type": "integer"
        },
        {
         "name": "hloubetin",
         "rawType": "int64",
         "type": "integer"
        },
        {
         "name": "lochkov",
         "rawType": "int64",
         "type": "integer"
        },
        {
         "name": "lipence",
         "rawType": "int64",
         "type": "integer"
        },
        {
         "name": "liboc",
         "rawType": "int64",
         "type": "integer"
        },
        {
         "name": "josefov",
         "rawType": "int64",
         "type": "integer"
        },
        {
         "name": "hrdlorezy",
         "rawType": "int64",
         "type": "integer"
        },
        {
         "name": "slivenec",
         "rawType": "int64",
         "type": "integer"
        },
        {
         "name": "sterboholy",
         "rawType": "int64",
         "type": "integer"
        },
        {
         "name": "praha_7",
         "rawType": "int64",
         "type": "integer"
        },
        {
         "name": "hodkovicky",
         "rawType": "int64",
         "type": "integer"
        },
        {
         "name": "cholupice",
         "rawType": "int64",
         "type": "integer"
        },
        {
         "name": "miskovice",
         "rawType": "int64",
         "type": "integer"
        },
        {
         "name": "uhrineves",
         "rawType": "int64",
         "type": "integer"
        },
        {
         "name": "stresovice",
         "rawType": "int64",
         "type": "integer"
        },
        {
         "name": "dubec",
         "rawType": "int64",
         "type": "integer"
        },
        {
         "name": "lhotka",
         "rawType": "int64",
         "type": "integer"
        },
        {
         "name": "velka",
         "rawType": "int64",
         "type": "integer"
        },
        {
         "name": "pisnice",
         "rawType": "int64",
         "type": "integer"
        },
        {
         "name": "klanovice",
         "rawType": "int64",
         "type": "integer"
        },
        {
         "name": "dablice",
         "rawType": "int64",
         "type": "integer"
        },
        {
         "name": "vinor",
         "rawType": "int64",
         "type": "integer"
        },
        {
         "name": "holyne",
         "rawType": "int64",
         "type": "integer"
        },
        {
         "name": "praha_10",
         "rawType": "int64",
         "type": "integer"
        },
        {
         "name": "libus",
         "rawType": "int64",
         "type": "integer"
        },
        {
         "name": "hajek",
         "rawType": "int64",
         "type": "integer"
        },
        {
         "name": "praha_2",
         "rawType": "int64",
         "type": "integer"
        },
        {
         "name": "reporyje",
         "rawType": "int64",
         "type": "integer"
        },
        {
         "name": "seberov",
         "rawType": "int64",
         "type": "integer"
        },
        {
         "name": "bechovice",
         "rawType": "int64",
         "type": "integer"
        },
        {
         "name": "kolodeje",
         "rawType": "int64",
         "type": "integer"
        },
        {
         "name": "hradcany",
         "rawType": "int64",
         "type": "integer"
        },
        {
         "name": "praha_6",
         "rawType": "int64",
         "type": "integer"
        },
        {
         "name": "tocna",
         "rawType": "int64",
         "type": "integer"
        },
        {
         "name": "kralovice",
         "rawType": "int64",
         "type": "integer"
        },
        {
         "name": "kunratice",
         "rawType": "int64",
         "type": "integer"
        },
        {
         "name": "praha_11",
         "rawType": "int64",
         "type": "integer"
        },
        {
         "name": "dolni_brezany",
         "rawType": "int64",
         "type": "integer"
        },
        {
         "name": "size",
         "rawType": "int64",
         "type": "integer"
        },
        {
         "name": "price_per_m2",
         "rawType": "int64",
         "type": "integer"
        },
        {
         "name": "energy_level",
         "rawType": "float64",
         "type": "float"
        },
        {
         "name": "floor",
         "rawType": "float64",
         "type": "float"
        },
        {
         "name": "Ve velmi dobrem stavu",
         "rawType": "int64",
         "type": "integer"
        },
        {
         "name": "V dobrem stavu",
         "rawType": "int64",
         "type": "integer"
        },
        {
         "name": "Ve spatnem stavu",
         "rawType": "int64",
         "type": "integer"
        },
        {
         "name": "Ve vystavbe",
         "rawType": "int64",
         "type": "integer"
        },
        {
         "name": "Projekt",
         "rawType": "int64",
         "type": "integer"
        },
        {
         "name": "Novostavba",
         "rawType": "int64",
         "type": "integer"
        },
        {
         "name": "K demolici",
         "rawType": "int64",
         "type": "integer"
        },
        {
         "name": "Pred rekonstrukci",
         "rawType": "int64",
         "type": "integer"
        },
        {
         "name": "Po rekonstrukci",
         "rawType": "int64",
         "type": "integer"
        },
        {
         "name": "V rekonstrukci",
         "rawType": "int64",
         "type": "integer"
        },
        {
         "name": "Smisena",
         "rawType": "int64",
         "type": "integer"
        },
        {
         "name": "Panelova",
         "rawType": "int64",
         "type": "integer"
        },
        {
         "name": "Cihlova",
         "rawType": "int64",
         "type": "integer"
        },
        {
         "name": "Skeletova",
         "rawType": "int64",
         "type": "integer"
        },
        {
         "name": "Modularni",
         "rawType": "int64",
         "type": "integer"
        },
        {
         "name": "Kamenna",
         "rawType": "int64",
         "type": "integer"
        },
        {
         "name": "Drevostavba",
         "rawType": "int64",
         "type": "integer"
        },
        {
         "name": "Balkon",
         "rawType": "int64",
         "type": "integer"
        },
        {
         "name": "Lodzie",
         "rawType": "int64",
         "type": "integer"
        },
        {
         "name": "Zahrada",
         "rawType": "int64",
         "type": "integer"
        },
        {
         "name": "Terasa",
         "rawType": "int64",
         "type": "integer"
        },
        {
         "name": "Parkovaci stani",
         "rawType": "int64",
         "type": "integer"
        },
        {
         "name": "Vytah",
         "rawType": "int64",
         "type": "integer"
        },
        {
         "name": "Sklep",
         "rawType": "int64",
         "type": "integer"
        },
        {
         "name": "Garaz",
         "rawType": "int64",
         "type": "integer"
        },
        {
         "name": "Zarizeno",
         "rawType": "int64",
         "type": "integer"
        },
        {
         "name": "Nezarizeno",
         "rawType": "int64",
         "type": "integer"
        },
        {
         "name": "Castecne zarizeno",
         "rawType": "int64",
         "type": "integer"
        },
        {
         "name": "Bezbarierovy pristup",
         "rawType": "int64",
         "type": "integer"
        },
        {
         "name": "bus",
         "rawType": "int64",
         "type": "integer"
        },
        {
         "name": "tram",
         "rawType": "float64",
         "type": "float"
        },
        {
         "name": "metro",
         "rawType": "float64",
         "type": "float"
        },
        {
         "name": "train",
         "rawType": "int64",
         "type": "integer"
        },
        {
         "name": "school",
         "rawType": "int64",
         "type": "integer"
        },
        {
         "name": "kindergarden",
         "rawType": "int64",
         "type": "integer"
        },
        {
         "name": "small_store",
         "rawType": "int64",
         "type": "integer"
        },
        {
         "name": "big_store",
         "rawType": "float64",
         "type": "float"
        },
        {
         "name": "pub",
         "rawType": "int64",
         "type": "integer"
        },
        {
         "name": "restaurant",
         "rawType": "int64",
         "type": "integer"
        },
        {
         "name": "post_office",
         "rawType": "int64",
         "type": "integer"
        },
        {
         "name": "atm",
         "rawType": "int64",
         "type": "integer"
        },
        {
         "name": "nature_place",
         "rawType": "float64",
         "type": "float"
        },
        {
         "name": "pharmacy",
         "rawType": "int64",
         "type": "integer"
        },
        {
         "name": "sports",
         "rawType": "int64",
         "type": "integer"
        }
       ],
       "conversionMethod": "pd.DataFrame",
       "ref": "25e19e3f-a53f-4ca4-aacf-3ee92c3b2b80",
       "rows": [
        [
         "0",
         "6148000",
         "0",
         "0",
         "0",
         "1",
         "0",
         "0",
         "0",
         "0",
         "0",
         "0",
         "0",
         "0",
         "1",
         "0",
         "0",
         "0",
         "0",
         "0",
         "0",
         "0",
         "0",
         "0",
         "0",
         "0",
         "0",
         "0",
         "0",
         "0",
         "0",
         "0",
         "0",
         "0",
         "0",
         "0",
         "0",
         "0",
         "0",
         "0",
         "0",
         "0",
         "0",
         "0",
         "0",
         "0",
         "0",
         "0",
         "0",
         "0",
         "0",
         "0",
         "0",
         "0",
         "0",
         "0",
         "0",
         "0",
         "0",
         "0",
         "0",
         "0",
         "0",
         "0",
         "0",
         "0",
         "0",
         "0",
         "0",
         "0",
         "0",
         "0",
         "0",
         "0",
         "0",
         "0",
         "0",
         "0",
         "0",
         "0",
         "0",
         "0",
         "0",
         "0",
         "0",
         "0",
         "0",
         "0",
         "0",
         "0",
         "0",
         "0",
         "0",
         "0",
         "0",
         "0",
         "0",
         "0",
         "0",
         "0",
         "0",
         "0",
         "0",
         "0",
         "0",
         "0",
         "0",
         "0",
         "0",
         "0",
         "0",
         "0",
         "0",
         "0",
         "0",
         "0",
         "0",
         "0",
         "0",
         "0",
         "0",
         "46",
         "133652",
         "7.0",
         "5.0",
         "0",
         "0",
         "0",
         "0",
         "0",
         "0",
         "0",
         "0",
         "1",
         "0",
         "0",
         "1",
         "0",
         "0",
         "0",
         "0",
         "0",
         "0",
         "0",
         "0",
         "0",
         "0",
         "1",
         "0",
         "0",
         "0",
         "1",
         "0",
         "0",
         "92",
         "1540.0",
         "1270.0",
         "2287",
         "594",
         "577",
         "319",
         "966.0",
         "1110",
         "62",
         "1003",
         "693",
         "2609.0",
         "644",
         "62"
        ],
        [
         "1",
         "9490000",
         "0",
         "0",
         "0",
         "1",
         "0",
         "0",
         "0",
         "0",
         "0",
         "0",
         "0",
         "0",
         "0",
         "0",
         "0",
         "0",
         "0",
         "1",
         "0",
         "0",
         "0",
         "0",
         "0",
         "0",
         "0",
         "0",
         "0",
         "0",
         "0",
         "0",
         "0",
         "0",
         "0",
         "0",
         "0",
         "0",
         "0",
         "0",
         "0",
         "0",
         "0",
         "0",
         "0",
         "0",
         "0",
         "0",
         "0",
         "0",
         "0",
         "0",
         "0",
         "0",
         "0",
         "0",
         "0",
         "0",
         "0",
         "0",
         "0",
         "0",
         "0",
         "0",
         "0",
         "0",
         "0",
         "0",
         "0",
         "0",
         "0",
         "0",
         "0",
         "0",
         "0",
         "0",
         "0",
         "0",
         "0",
         "0",
         "0",
         "0",
         "0",
         "0",
         "0",
         "0",
         "0",
         "0",
         "0",
         "0",
         "0",
         "0",
         "0",
         "0",
         "0",
         "0",
         "0",
         "0",
         "0",
         "0",
         "0",
         "0",
         "0",
         "0",
         "0",
         "0",
         "0",
         "0",
         "0",
         "0",
         "0",
         "0",
         "0",
         "0",
         "0",
         "0",
         "0",
         "0",
         "0",
         "0",
         "0",
         "56",
         "169464",
         "1.0",
         "4.0",
         "0",
         "0",
         "0",
         "0",
         "0",
         "1",
         "0",
         "0",
         "0",
         "0",
         "1",
         "0",
         "0",
         "0",
         "0",
         "0",
         "0",
         "1",
         "0",
         "0",
         "0",
         "0",
         "1",
         "1",
         "1",
         "0",
         "0",
         "1",
         "1",
         "611",
         "208.0",
         "762.0",
         "762",
         "261",
         "294",
         "431",
         "1809.0",
         "301",
         "197",
         "364",
         "523",
         null,
         "609",
         "387"
        ],
        [
         "2",
         "19373005",
         "0",
         "0",
         "0",
         "0",
         "0",
         "1",
         "0",
         "0",
         "0",
         "0",
         "0",
         "0",
         "0",
         "0",
         "0",
         "1",
         "0",
         "0",
         "0",
         "0",
         "0",
         "0",
         "0",
         "0",
         "0",
         "0",
         "0",
         "0",
         "0",
         "0",
         "0",
         "0",
         "0",
         "0",
         "0",
         "0",
         "0",
         "0",
         "0",
         "0",
         "0",
         "0",
         "0",
         "0",
         "0",
         "0",
         "0",
         "0",
         "0",
         "0",
         "0",
         "0",
         "0",
         "0",
         "0",
         "0",
         "0",
         "0",
         "0",
         "0",
         "0",
         "0",
         "0",
         "0",
         "0",
         "0",
         "0",
         "0",
         "0",
         "0",
         "0",
         "0",
         "0",
         "0",
         "0",
         "0",
         "0",
         "0",
         "0",
         "0",
         "0",
         "0",
         "0",
         "0",
         "0",
         "0",
         "0",
         "0",
         "0",
         "0",
         "0",
         "0",
         "0",
         "0",
         "0",
         "0",
         "0",
         "0",
         "0",
         "0",
         "0",
         "0",
         "0",
         "0",
         "0",
         "0",
         "0",
         "0",
         "0",
         "0",
         "0",
         "0",
         "0",
         "0",
         "0",
         "0",
         "0",
         "0",
         "0",
         "119",
         "162798",
         "2.0",
         "5.0",
         "0",
         "0",
         "0",
         "0",
         "0",
         "1",
         "0",
         "0",
         "0",
         "0",
         "0",
         "0",
         "1",
         "0",
         "0",
         "0",
         "0",
         "0",
         "0",
         "0",
         "1",
         "1",
         "1",
         "1",
         "1",
         "0",
         "0",
         "0",
         "0",
         "164",
         "429.0",
         "632.0",
         "857",
         "507",
         "319",
         "707",
         "707.0",
         "1634",
         "374",
         "799",
         "483",
         "1883.0",
         "776",
         "676"
        ],
        [
         "3",
         "7000000",
         "0",
         "0",
         "0",
         "1",
         "0",
         "0",
         "0",
         "0",
         "0",
         "0",
         "0",
         "0",
         "0",
         "0",
         "0",
         "0",
         "1",
         "0",
         "0",
         "0",
         "0",
         "0",
         "0",
         "0",
         "0",
         "0",
         "0",
         "0",
         "0",
         "0",
         "0",
         "0",
         "0",
         "0",
         "0",
         "0",
         "0",
         "0",
         "0",
         "0",
         "0",
         "0",
         "0",
         "0",
         "0",
         "0",
         "0",
         "0",
         "0",
         "0",
         "0",
         "0",
         "0",
         "0",
         "0",
         "0",
         "0",
         "0",
         "0",
         "0",
         "0",
         "0",
         "0",
         "0",
         "0",
         "0",
         "0",
         "0",
         "0",
         "0",
         "0",
         "0",
         "0",
         "0",
         "0",
         "0",
         "0",
         "0",
         "0",
         "0",
         "0",
         "0",
         "0",
         "0",
         "0",
         "0",
         "0",
         "0",
         "0",
         "0",
         "0",
         "0",
         "0",
         "0",
         "0",
         "0",
         "0",
         "0",
         "0",
         "0",
         "0",
         "0",
         "0",
         "0",
         "0",
         "0",
         "0",
         "0",
         "0",
         "0",
         "0",
         "0",
         "0",
         "0",
         "0",
         "0",
         "0",
         "0",
         "0",
         "40",
         "175000",
         "4.0",
         "7.0",
         "1",
         "0",
         "0",
         "0",
         "0",
         "0",
         "0",
         "0",
         "0",
         "0",
         "0",
         "1",
         "0",
         "0",
         "0",
         "0",
         "0",
         "0",
         "1",
         "0",
         "0",
         "0",
         "1",
         "1",
         "0",
         "0",
         "0",
         "0",
         "0",
         "87",
         "395.0",
         "800.0",
         "1455",
         "88",
         "196",
         "76",
         "1635.0",
         "774",
         "97",
         "961",
         "382",
         "4511.0",
         "542",
         "81"
        ],
        [
         "4",
         "26278859",
         "0",
         "0",
         "0",
         "0",
         "0",
         "1",
         "0",
         "0",
         "0",
         "0",
         "0",
         "0",
         "0",
         "0",
         "0",
         "0",
         "0",
         "0",
         "0",
         "0",
         "0",
         "0",
         "0",
         "0",
         "0",
         "0",
         "0",
         "0",
         "0",
         "0",
         "0",
         "0",
         "0",
         "0",
         "0",
         "0",
         "0",
         "0",
         "0",
         "0",
         "0",
         "0",
         "0",
         "0",
         "0",
         "0",
         "0",
         "0",
         "0",
         "0",
         "0",
         "0",
         "0",
         "0",
         "1",
         "0",
         "0",
         "0",
         "0",
         "0",
         "0",
         "0",
         "0",
         "0",
         "0",
         "0",
         "0",
         "0",
         "0",
         "0",
         "0",
         "0",
         "0",
         "0",
         "0",
         "0",
         "0",
         "0",
         "0",
         "0",
         "0",
         "0",
         "0",
         "0",
         "0",
         "0",
         "0",
         "0",
         "0",
         "0",
         "0",
         "0",
         "0",
         "0",
         "0",
         "0",
         "0",
         "0",
         "0",
         "0",
         "0",
         "0",
         "0",
         "0",
         "0",
         "0",
         "0",
         "0",
         "0",
         "0",
         "0",
         "0",
         "0",
         "0",
         "0",
         "0",
         "0",
         "0",
         "0",
         "119",
         "220831",
         "2.0",
         "2.0",
         "0",
         "0",
         "0",
         "0",
         "0",
         "1",
         "0",
         "0",
         "0",
         "0",
         "0",
         "0",
         "1",
         "0",
         "0",
         "0",
         "0",
         "0",
         "0",
         "0",
         "0",
         "0",
         "1",
         "1",
         "1",
         "0",
         "1",
         "0",
         "0",
         "238",
         "726.0",
         "798.0",
         "1048",
         "100",
         "468",
         "732",
         "1466.0",
         "1017",
         "619",
         "1077",
         "820",
         null,
         "962",
         "592"
        ]
       ],
       "shape": {
        "columns": 168,
        "rows": 5
       }
      },
      "text/html": [
       "<div>\n",
       "<style scoped>\n",
       "    .dataframe tbody tr th:only-of-type {\n",
       "        vertical-align: middle;\n",
       "    }\n",
       "\n",
       "    .dataframe tbody tr th {\n",
       "        vertical-align: top;\n",
       "    }\n",
       "\n",
       "    .dataframe thead th {\n",
       "        text-align: right;\n",
       "    }\n",
       "</style>\n",
       "<table border=\"1\" class=\"dataframe\">\n",
       "  <thead>\n",
       "    <tr style=\"text-align: right;\">\n",
       "      <th></th>\n",
       "      <th>price</th>\n",
       "      <th>1+1</th>\n",
       "      <th>1+kk</th>\n",
       "      <th>2+1</th>\n",
       "      <th>2+kk</th>\n",
       "      <th>3+1</th>\n",
       "      <th>3+kk</th>\n",
       "      <th>4+1</th>\n",
       "      <th>4+kk</th>\n",
       "      <th>5+1</th>\n",
       "      <th>...</th>\n",
       "      <th>kindergarden</th>\n",
       "      <th>small_store</th>\n",
       "      <th>big_store</th>\n",
       "      <th>pub</th>\n",
       "      <th>restaurant</th>\n",
       "      <th>post_office</th>\n",
       "      <th>atm</th>\n",
       "      <th>nature_place</th>\n",
       "      <th>pharmacy</th>\n",
       "      <th>sports</th>\n",
       "    </tr>\n",
       "  </thead>\n",
       "  <tbody>\n",
       "    <tr>\n",
       "      <th>0</th>\n",
       "      <td>6148000</td>\n",
       "      <td>0</td>\n",
       "      <td>0</td>\n",
       "      <td>0</td>\n",
       "      <td>1</td>\n",
       "      <td>0</td>\n",
       "      <td>0</td>\n",
       "      <td>0</td>\n",
       "      <td>0</td>\n",
       "      <td>0</td>\n",
       "      <td>...</td>\n",
       "      <td>577</td>\n",
       "      <td>319</td>\n",
       "      <td>966.0</td>\n",
       "      <td>1110</td>\n",
       "      <td>62</td>\n",
       "      <td>1003</td>\n",
       "      <td>693</td>\n",
       "      <td>2609.0</td>\n",
       "      <td>644</td>\n",
       "      <td>62</td>\n",
       "    </tr>\n",
       "    <tr>\n",
       "      <th>1</th>\n",
       "      <td>9490000</td>\n",
       "      <td>0</td>\n",
       "      <td>0</td>\n",
       "      <td>0</td>\n",
       "      <td>1</td>\n",
       "      <td>0</td>\n",
       "      <td>0</td>\n",
       "      <td>0</td>\n",
       "      <td>0</td>\n",
       "      <td>0</td>\n",
       "      <td>...</td>\n",
       "      <td>294</td>\n",
       "      <td>431</td>\n",
       "      <td>1809.0</td>\n",
       "      <td>301</td>\n",
       "      <td>197</td>\n",
       "      <td>364</td>\n",
       "      <td>523</td>\n",
       "      <td>NaN</td>\n",
       "      <td>609</td>\n",
       "      <td>387</td>\n",
       "    </tr>\n",
       "    <tr>\n",
       "      <th>2</th>\n",
       "      <td>19373005</td>\n",
       "      <td>0</td>\n",
       "      <td>0</td>\n",
       "      <td>0</td>\n",
       "      <td>0</td>\n",
       "      <td>0</td>\n",
       "      <td>1</td>\n",
       "      <td>0</td>\n",
       "      <td>0</td>\n",
       "      <td>0</td>\n",
       "      <td>...</td>\n",
       "      <td>319</td>\n",
       "      <td>707</td>\n",
       "      <td>707.0</td>\n",
       "      <td>1634</td>\n",
       "      <td>374</td>\n",
       "      <td>799</td>\n",
       "      <td>483</td>\n",
       "      <td>1883.0</td>\n",
       "      <td>776</td>\n",
       "      <td>676</td>\n",
       "    </tr>\n",
       "    <tr>\n",
       "      <th>3</th>\n",
       "      <td>7000000</td>\n",
       "      <td>0</td>\n",
       "      <td>0</td>\n",
       "      <td>0</td>\n",
       "      <td>1</td>\n",
       "      <td>0</td>\n",
       "      <td>0</td>\n",
       "      <td>0</td>\n",
       "      <td>0</td>\n",
       "      <td>0</td>\n",
       "      <td>...</td>\n",
       "      <td>196</td>\n",
       "      <td>76</td>\n",
       "      <td>1635.0</td>\n",
       "      <td>774</td>\n",
       "      <td>97</td>\n",
       "      <td>961</td>\n",
       "      <td>382</td>\n",
       "      <td>4511.0</td>\n",
       "      <td>542</td>\n",
       "      <td>81</td>\n",
       "    </tr>\n",
       "    <tr>\n",
       "      <th>4</th>\n",
       "      <td>26278859</td>\n",
       "      <td>0</td>\n",
       "      <td>0</td>\n",
       "      <td>0</td>\n",
       "      <td>0</td>\n",
       "      <td>0</td>\n",
       "      <td>1</td>\n",
       "      <td>0</td>\n",
       "      <td>0</td>\n",
       "      <td>0</td>\n",
       "      <td>...</td>\n",
       "      <td>468</td>\n",
       "      <td>732</td>\n",
       "      <td>1466.0</td>\n",
       "      <td>1017</td>\n",
       "      <td>619</td>\n",
       "      <td>1077</td>\n",
       "      <td>820</td>\n",
       "      <td>NaN</td>\n",
       "      <td>962</td>\n",
       "      <td>592</td>\n",
       "    </tr>\n",
       "  </tbody>\n",
       "</table>\n",
       "<p>5 rows × 168 columns</p>\n",
       "</div>"
      ],
      "text/plain": [
       "      price  1+1  1+kk  2+1  2+kk  3+1  3+kk  4+1  4+kk  5+1  ...  \\\n",
       "0   6148000    0     0    0     1    0     0    0     0    0  ...   \n",
       "1   9490000    0     0    0     1    0     0    0     0    0  ...   \n",
       "2  19373005    0     0    0     0    0     1    0     0    0  ...   \n",
       "3   7000000    0     0    0     1    0     0    0     0    0  ...   \n",
       "4  26278859    0     0    0     0    0     1    0     0    0  ...   \n",
       "\n",
       "   kindergarden  small_store  big_store   pub  restaurant  post_office  atm  \\\n",
       "0           577          319      966.0  1110          62         1003  693   \n",
       "1           294          431     1809.0   301         197          364  523   \n",
       "2           319          707      707.0  1634         374          799  483   \n",
       "3           196           76     1635.0   774          97          961  382   \n",
       "4           468          732     1466.0  1017         619         1077  820   \n",
       "\n",
       "   nature_place  pharmacy  sports  \n",
       "0        2609.0       644      62  \n",
       "1           NaN       609     387  \n",
       "2        1883.0       776     676  \n",
       "3        4511.0       542      81  \n",
       "4           NaN       962     592  \n",
       "\n",
       "[5 rows x 168 columns]"
      ]
     },
     "execution_count": 3,
     "metadata": {},
     "output_type": "execute_result"
    }
   ],
   "source": [
    "df = pd.read_csv('merged_apt_data.csv')\n",
    "df.head()\n"
   ]
  },
  {
   "cell_type": "markdown",
   "metadata": {},
   "source": [
    "Inspect the missing data"
   ]
  },
  {
   "cell_type": "code",
   "execution_count": 4,
   "metadata": {},
   "outputs": [
    {
     "data": {
      "text/plain": [
       "np.int64(392)"
      ]
     },
     "execution_count": 4,
     "metadata": {},
     "output_type": "execute_result"
    }
   ],
   "source": [
    "missing_values = df.isnull().sum()\n",
    "missing_values\n",
    "\n",
    "#here we can see how many energy levels are missing in our dataset for example\n",
    "missing_energy_level = df['energy_level'].isnull().sum()\n",
    "missing_energy_level"
   ]
  },
  {
   "cell_type": "markdown",
   "metadata": {},
   "source": [
    "Applying MICE"
   ]
  },
  {
   "cell_type": "code",
   "execution_count": 5,
   "metadata": {},
   "outputs": [
    {
     "data": {
      "text/plain": [
       "0     7.000000\n",
       "1     1.000000\n",
       "2     2.000000\n",
       "3     4.000000\n",
       "4     2.000000\n",
       "5     3.439727\n",
       "6     2.000000\n",
       "7     2.000000\n",
       "8     3.000000\n",
       "9     2.000000\n",
       "10    2.000000\n",
       "11    7.000000\n",
       "12    3.568650\n",
       "13    2.000000\n",
       "14    2.000000\n",
       "15    4.000000\n",
       "16    3.543069\n",
       "17    2.650231\n",
       "18    2.962034\n",
       "19    4.923415\n",
       "20    2.000000\n",
       "21    2.000000\n",
       "22    3.000000\n",
       "23    7.000000\n",
       "24    3.000000\n",
       "25    7.000000\n",
       "26    3.000000\n",
       "27    3.000000\n",
       "28    1.000000\n",
       "29    4.000000\n",
       "Name: energy_level, dtype: float64"
      ]
     },
     "execution_count": 5,
     "metadata": {},
     "output_type": "execute_result"
    }
   ],
   "source": [
    "imputer = IterativeImputer()\n",
    "df_imputed = imputer.fit_transform(df)\n",
    "df_imputed = pd.DataFrame(df_imputed, columns=df.columns)\n",
    "#we can see that the energy levels which are not .00 are now imputed\n",
    "df_imputed['energy_level'].head(30)"
   ]
  },
  {
   "cell_type": "markdown",
   "metadata": {},
   "source": [
    "Evaluation of imputation"
   ]
  },
  {
   "cell_type": "code",
   "execution_count": 6,
   "metadata": {},
   "outputs": [
    {
     "data": {
      "image/png": "[encoded data removed]",
      "text/plain": [
       "<Figure size 1000x400 with 1 Axes>"
      ]
     },
     "metadata": {},
     "output_type": "display_data"
    }
   ],
   "source": [
    "# Visualize the distribution of a few selected columns before and after imputation\n",
    "import matplotlib.pyplot as plt\n",
    "import seaborn as sns\n",
    "\n",
    "# Select column to visualize\n",
    "column = 'energy_level'  \n",
    "\n",
    "plt.figure(figsize=(10, 4))\n",
    "\n",
    "# Original data distribution\n",
    "sns.histplot(df[column].dropna(), color='blue', label='Original', kde=True)\n",
    "\n",
    "# Imputed data distribution\n",
    "# This exapmle is for the energy level column, feel free to change the column name to visualize other columns\n",
    "sns.histplot(df_imputed[column], color='red', label='Imputed', kde=True)\n",
    "\n",
    "plt.title(f'Distribution of {column} Before and After Imputation')\n",
    "plt.legend()\n",
    "\n",
    "\n",
    "\n",
    "plt.show()"
   ]
  },
  {
   "cell_type": "markdown",
   "metadata": {},
   "source": [
    "Data separation"
   ]
  },
  {
   "cell_type": "code",
   "execution_count": null,
   "metadata": {},
   "outputs": [],
   "source": [
    "y = df_imputed['price']\n",
    "X = df_imputed.drop(columns=['price'])\n",
    "\n",
    "X_trainval, X_test, y_trainval, y_test = train_test_split(X, y, test_size=0.2, random_state=42)"
   ]
  },
  {
   "cell_type": "markdown",
   "metadata": {},
   "source": [
    "# Training the model"
   ]
  },
  {
   "cell_type": "markdown",
   "metadata": {},
   "source": [
    "Linear regression with elastic net normalization and cross-validation methodology for data"
   ]
  },
  {
   "cell_type": "code",
   "execution_count": null,
   "metadata": {},
   "outputs": [],
   "source": [
    "ols = LinearRegression()"
   ]
  },
  {
   "cell_type": "code",
   "execution_count": null,
   "metadata": {},
   "outputs": [],
   "source": [
    "grid_search = GridSearchCV( -here will go the elastic net model-, \n",
    "                           parameters, cv=5, \n",
    "                           return_train_score=True)"
   ]
  }
 ],
 "metadata": {
  "kernelspec": {
   "display_name": "sklearn-env",
   "language": "python",
   "name": "python3"
  },
  "language_info": {
   "codemirror_mode": {
    "name": "ipython",
    "version": 3
   },
   "file_extension": ".py",
   "mimetype": "text/x-python",
   "name": "python",
   "nbconvert_exporter": "python",
   "pygments_lexer": "ipython3",
   "version": "3.13.1"
  }
 },
 "nbformat": 4,
 "nbformat_minor": 2
}
